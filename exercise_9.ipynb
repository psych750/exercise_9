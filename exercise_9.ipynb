{
 "cells": [
  {
   "cell_type": "markdown",
   "metadata": {},
   "source": [
    "# Part 1\n",
    "\n",
    "Write a regexp to match (and return) all words in words that begin and end with a vowel. To read in the word list, use the code below.\n",
    "\n",
    "See regexp notebook for examples"
   ]
  },
  {
   "cell_type": "code",
   "execution_count": 4,
   "metadata": {},
   "outputs": [],
   "source": [
    "import pandas as pd\n",
    "import re\n",
    "data = pd.read_csv('https://psych750.github.io/data/ANC-written-count_over9.txt',encoding = \"ISO-8859-1\",sep=\"\\t\")\n",
    "words = list(set(data['word']))[1:]"
   ]
  },
  {
   "cell_type": "code",
   "execution_count": 3,
   "metadata": {},
   "outputs": [],
   "source": [
    "# solution here"
   ]
  },
  {
   "cell_type": "markdown",
   "metadata": {},
   "source": [
    "# Part 2: Match lmno words\n",
    "\n",
    "Write a regexp to match (and return) all words in words that contain the letters l, m, n, and o – in that order, but not necessarily consecutively. flamingo should match, but so should self-monitoring because even though the order is disrupted, it still passes the test.\n",
    "\n",
    "See regexp notebook for examples\n"
   ]
  },
  {
   "cell_type": "code",
   "execution_count": null,
   "metadata": {},
   "outputs": [],
   "source": [
    "#solution here\n"
   ]
  },
  {
   "cell_type": "markdown",
   "metadata": {},
   "source": [
    "# Part 3 - Fix weird spacing\n",
    "\n",
    "Write a function fix_spaces() that takes a string (of arbitrary length) as an argument and returns the string with weird spacing issues all fixed up"
   ]
  },
  {
   "cell_type": "code",
   "execution_count": null,
   "metadata": {},
   "outputs": [],
   "source": [
    "def fix_spaces(string):\n",
    "    pass"
   ]
  },
  {
   "cell_type": "markdown",
   "metadata": {},
   "source": [
    "# Part 4: Match phone numbers\n",
    "\n",
    "Write regexp that matches phone numbers. It should be able to match phone numbers in the following formats:\n",
    "\n",
    "(123)121-1234\n",
    "(123) 121-1234\n",
    "123-121-1234\n",
    "123-456-7890 ext. [some 3-5 digit number]"
   ]
  },
  {
   "cell_type": "code",
   "execution_count": null,
   "metadata": {},
   "outputs": [],
   "source": [
    "#solution here"
   ]
  },
  {
   "cell_type": "markdown",
   "metadata": {},
   "source": [
    "# Part 5: Email validation\n",
    "Write a function that takes a string as an argument and returns a list of all valid emails addresses contained in the string. If the string contains no valid emails, the function should return False. \n",
    "\n",
    "A valid email address for the purposes of this exercise has the form: some_alphanumeric_string@something.something (there can be multiple dots at the end e.g., uk_education@edinburgh.ac.uk is a valid address."
   ]
  },
  {
   "cell_type": "code",
   "execution_count": null,
   "metadata": {},
   "outputs": [],
   "source": [
    "def validate_email(string):\n",
    "    pass"
   ]
  },
  {
   "cell_type": "markdown",
   "metadata": {},
   "source": [
    "# Part 6 - Redact sensitive info\n",
    "\n",
    "Write code that processes `enronemail.txt` and replaces names with `(name redacted)`, emails with `(email redacted)`, and phone numbers with `(phone number redacted)`. You can hard-code the specific first and last names to redact, but your code for emails and phone numbers should be flexible to accommodate various emails and phone numbers. You can (and should!) use the code you already wrote for parts 4 and 5. "
   ]
  }
 ],
 "metadata": {
  "kernelspec": {
   "display_name": "Python 3.8.13 ('psych750')",
   "language": "python",
   "name": "python3"
  },
  "language_info": {
   "codemirror_mode": {
    "name": "ipython",
    "version": 3
   },
   "file_extension": ".py",
   "mimetype": "text/x-python",
   "name": "python",
   "nbconvert_exporter": "python",
   "pygments_lexer": "ipython3",
   "version": "3.8.13"
  },
  "orig_nbformat": 4,
  "vscode": {
   "interpreter": {
    "hash": "57beecaf6908bae4f97de5e2dc8e8d0311fae5bc989593c172c307d13e31f6e4"
   }
  }
 },
 "nbformat": 4,
 "nbformat_minor": 2
}
