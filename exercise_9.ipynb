{
 "cells": [
  {
   "cell_type": "code",
   "execution_count": 61,
   "metadata": {},
   "outputs": [],
   "source": [
    "import nltk\n",
    "from nltk.corpus import wordnet, stopwords\n",
    "from nltk.text import Text\n",
    "from nltk import collocations, FreqDist, bigrams, trigrams\n",
    "\n"
   ]
  },
  {
   "cell_type": "markdown",
   "metadata": {},
   "source": [
    "# Part 1"
   ]
  },
  {
   "cell_type": "code",
   "execution_count": 168,
   "metadata": {},
   "outputs": [],
   "source": [
    "emma_raw = nltk.corpus.gutenberg.raw('austen-emma.txt')\n",
    "hamlet_raw = nltk.corpus.gutenberg.raw('shakespeare-hamlet.txt')\n",
    "\n",
    "emma_tokens = nltk.word_tokenize(emma_raw)\n",
    "hamlet_tokens = nltk.word_tokenize(hamlet_raw)\n",
    "\n",
    "emma_pos = nltk.pos_tag(emma_tokens)\n",
    "hamlet_pos = nltk.pos_tag(hamlet_tokens)\n",
    "\n",
    "\n",
    "emma_adjectives = [word[0].lower() for word in emma_pos if word[1][:2] == \"JJ\"]\n",
    "hamlet_adjectives = [word[0].lower() for word in hamlet_pos if word[1][:2] == \"JJ\"]"
   ]
  },
  {
   "cell_type": "code",
   "execution_count": 169,
   "metadata": {},
   "outputs": [
    {
     "name": "stdout",
     "output_type": "stream",
     "text": [
      "Emma - 15 most common adjectives:\n",
      "\n",
      "[('such', 358), ('little', 347), ('much', 308), ('good', 299), ('own', 285), ('great', 262), ('more', 221), ('other', 220), ('young', 190), ('sure', 177), ('dear', 167), ('first', 160), ('many', 136), ('happy', 123), ('last', 119)]\n",
      "\n",
      "\n",
      "Hamlet - 15 most common adjectives:\n",
      "\n",
      "[('good', 94), ('thy', 54), ('most', 42), ('more', 41), ('such', 38), ('much', 27), ('other', 27), ('thou', 25), ('dead', 24), ('true', 21), ('great', 19), ('owne', 18), ('old', 16), ('mine', 16), ('sweet', 15)]\n"
     ]
    }
   ],
   "source": [
    "\n",
    "print(\"Emma - 15 most common adjectives:\\n\")\n",
    "print(FreqDist(emma_adjectives).most_common(15))\n",
    "\n",
    "print(\"\\n\\nHamlet - 15 most common adjectives:\\n\")\n",
    "print(FreqDist(hamlet_adjectives).most_common(15))\n",
    "\n"
   ]
  },
  {
   "cell_type": "markdown",
   "metadata": {},
   "source": [
    "I wonder why 'such' is being routinely tagged as an adjective...\n",
    "\n",
    "\n"
   ]
  },
  {
   "cell_type": "code",
   "execution_count": null,
   "metadata": {},
   "outputs": [
    {
     "name": "stdout",
     "output_type": "stream",
     "text": [
      "[('She', 'PRP'), ('is', 'VBZ'), ('such', 'JJ'), ('a', 'DT'), ('great', 'JJ'), ('cook', 'NN'), ('.', '.')]\n",
      "[('Such', 'JJ'), ('is', 'VBZ'), ('their', 'PRP$'), ('fate', 'NN'), ('.', '.')]\n",
      "[('there', 'EX'), ('is', 'VBZ'), ('no', 'DT'), ('such', 'JJ'), ('thing', 'NN'), ('as', 'IN'), ('a', 'DT'), ('free', 'JJ'), ('lunch', 'NN')]\n"
     ]
    }
   ],
   "source": [
    "print(nltk.pos_tag(nltk.word_tokenize(\"She is such a great cook.\")))\n",
    "print(nltk.pos_tag(nltk.word_tokenize(\"Such is their fate.\")))\n",
    "print(nltk.pos_tag(nltk.word_tokenize(\"there is no such thing as a free lunch\")))\n"
   ]
  },
  {
   "cell_type": "markdown",
   "metadata": {},
   "source": [
    "Oh well... out-of-the box tagger is clearly not very good."
   ]
  },
  {
   "cell_type": "markdown",
   "metadata": {},
   "source": [
    "# Part 2"
   ]
  },
  {
   "cell_type": "code",
   "execution_count": 171,
   "metadata": {},
   "outputs": [],
   "source": [
    "books = ['austen-emma.txt', 'austen-persuasion.txt', 'austen-sense.txt',\\\n",
    "    'shakespeare-caesar.txt', 'shakespeare-hamlet.txt', 'shakespeare-macbeth.txt']\n",
    "\n",
    "shakespeare_raw=austen_raw=''\n",
    "for cur_book in books:\n",
    "    author = cur_book.split('-')[0]\n",
    "    if author == 'shakespeare':\n",
    "        shakespeare_raw += nltk.corpus.gutenberg.raw(cur_book)\n",
    "    elif author == 'austen':\n",
    "        austen_raw += nltk.corpus.gutenberg.raw(cur_book)\n",
    "\n",
    "\n",
    "austen_tokens = nltk.word_tokenize(austen_raw)\n",
    "shakespeare_tokens = nltk.word_tokenize(shakespeare_raw)\n",
    "\n",
    "austen_pos = nltk.pos_tag(austen_tokens)\n",
    "shakespeare_pos = nltk.pos_tag(shakespeare_tokens)\n",
    "\n",
    "\n",
    "austen_adjectives = [word[0].lower() for word in austen_pos if word[1][:2] == \"JJ\"]\n",
    "shakespeare_adjectives = [word[0].lower() for word in shakespeare_pos if word[1][:2] == \"JJ\"]"
   ]
  },
  {
   "cell_type": "code",
   "execution_count": 173,
   "metadata": {},
   "outputs": [
    {
     "name": "stdout",
     "output_type": "stream",
     "text": [
      "Shakespeare - 15 most common adjectives:\n",
      "\n",
      "[('good', 200), ('thy', 134), ('such', 87), ('more', 83), ('thou', 69), ('great', 69), ('most', 66), ('much', 59), ('noble', 56), ('other', 55), ('dead', 51), ('true', 45), ('many', 39), ('thee', 37), ('mine', 36)]\n",
      "\n",
      "\n",
      "Austen - 15 most common adjectives:\n",
      "\n",
      "[('such', 792), ('own', 712), ('little', 666), ('much', 613), ('good', 600), ('other', 547), ('more', 529), ('great', 526), ('young', 376), ('first', 374), ('sure', 363), ('many', 319), ('last', 309), ('same', 287), ('happy', 286)]\n"
     ]
    }
   ],
   "source": [
    "\n",
    "print(\"Shakespeare - 15 most common adjectives:\\n\")\n",
    "print(FreqDist(shakespeare_adjectives).most_common(15))\n",
    "\n",
    "print(\"\\n\\nAusten - 15 most common adjectives:\\n\")\n",
    "print(FreqDist(austen_adjectives).most_common(15))\n"
   ]
  },
  {
   "cell_type": "markdown",
   "metadata": {},
   "source": [
    "## Part 3\n",
    "\n",
    "The problem only asked about verbs, but I am lemmatizing other words as well to the extent that the WordNet lemmatizer will allow me."
   ]
  },
  {
   "cell_type": "code",
   "execution_count": 170,
   "metadata": {},
   "outputs": [],
   "source": [
    "lemmatizer = nltk.WordNetLemmatizer()\n",
    "tag_convert = {'JJ':'a', 'NN':'n', 'RB':'r', 'VB':'v'}\n",
    "\n",
    "\n",
    "austen_lemmatized_pos=[]\n",
    "for word_tag in austen_pos:\n",
    "    try:\n",
    "        austen_lemmatized_pos.append((lemmatizer.lemmatize(word_tag[0], tag_convert[word_tag[1][:2]]), word_tag[1]))\n",
    "    except KeyError:\n",
    "        austen_lemmatized_pos.append((lemmatizer.lemmatize(word_tag[0]), word_tag[1]))\n",
    "\n",
    "\n",
    "\n",
    "shakespeare_lemmatized_pos=[]\n",
    "for word_tag in shakespeare_pos:\n",
    "    try:\n",
    "        shakespeare_lemmatized_pos.append((lemmatizer.lemmatize(word_tag[0], tag_convert[word_tag[1][:2]]), word_tag[1]))\n",
    "    except KeyError:\n",
    "        shakespeare_lemmatized_pos.append((lemmatizer.lemmatize(word_tag[0]), word_tag[1]))\n",
    "\n"
   ]
  },
  {
   "cell_type": "code",
   "execution_count": 263,
   "metadata": {},
   "outputs": [
    {
     "name": "stdout",
     "output_type": "stream",
     "text": [
      "Unlemmatized verbs:\n",
      "\n",
      "[('said', 1052), ('think', 727), ('know', 692), ('say', 557), ('see', 517), ('made', 433), ('make', 377), ('thought', 370), ('give', 362), ('seemed', 323), ('come', 323), ('go', 310), ('felt', 292), ('done', 284), ('came', 276)]\n",
      "[('haue', 328), ('let', 196), ('know', 163), ('come', 143), (\"'s\", 139), ('say', 109), ('see', 107), ('make', 102), ('speake', 89), ('go', 85), ('tell', 80), ('done', 79), ('take', 68), ('doe', 64), ('giue', 63)]\n",
      "\n",
      "\n",
      "\n",
      "\n",
      "Lemmatized verbs:\n",
      "\n",
      "[('say', 1772), ('think', 1208), ('know', 1161), ('make', 933), ('go', 852), ('see', 837), ('give', 802), ('come', 780), ('take', 529), ('hear', 494), ('seem', 471), ('look', 461), ('find', 451), ('tell', 411), ('speak', 408)]\n",
      "[('haue', 328), ('come', 207), ('let', 199), ('make', 185), ('know', 183), ('go', 161), ('say', 146), (\"'s\", 139), ('see', 115), ('speake', 89), ('tell', 88), ('take', 85), ('doe', 64), ('giue', 63), ('put', 58)]\n"
     ]
    }
   ],
   "source": [
    "print(\"Unlemmatized verbs:\\n\")\n",
    "\n",
    "austen_unlemmatized_verbs = [word[0].lower() for word in austen_pos if word[1][:2] == \"VB\" and word[0] not in stopwords.words('english')]\n",
    "shakespeare_unlemmatized_verbs = [word[0].lower() for word in shakespeare_pos if word[1][:2] == \"VB\" and word[0] not in stopwords.words('english')]\n",
    "print(FreqDist(austen_unlemmatized_verbs).most_common(15))\n",
    "print(FreqDist(shakespeare_unlemmatized_verbs).most_common(15))\n",
    "\n",
    "\n",
    "print('\\n\\n\\n')\n",
    "print(\"Lemmatized verbs:\\n\")\n",
    "\n",
    "austen_lemmatized_verbs = [word[0].lower() for word in austen_lemmatized_pos if word[1][:2] == \"VB\" and word[0] not in stopwords.words('english')]\n",
    "print(FreqDist(austen_lemmatized_verbs).most_common(15))\n",
    "\n",
    "shakespeare_lemmatized_verbs = [word[0].lower() for word in shakespeare_lemmatized_pos if word[1][:2] == \"VB\" and word[0] not in stopwords.words('english')]\n",
    "print(FreqDist(shakespeare_lemmatized_verbs).most_common(15))\n",
    "\n"
   ]
  },
  {
   "cell_type": "markdown",
   "metadata": {},
   "source": [
    "## Bonus "
   ]
  },
  {
   "cell_type": "code",
   "execution_count": 36,
   "metadata": {},
   "outputs": [],
   "source": [
    "from nltk.collocations import TrigramCollocationFinder\n",
    "trigram_measures = nltk.collocations.TrigramAssocMeasures()\n",
    "\n",
    "us = open(\"allUS.txt\",'r').read()\n",
    "us = nltk.word_tokenize(us)\n",
    "\n",
    "uk = open(\"allUK.txt\",'r').read()\n",
    "uk = nltk.word_tokenize(uk)\n"
   ]
  },
  {
   "cell_type": "code",
   "execution_count": 62,
   "metadata": {},
   "outputs": [],
   "source": [
    "#The slow way... searching through lists\n",
    "us_no_stopwords = [word for word in us if word not in stopwords.words('english')]\n",
    "uk_no_stopwords = [word for word in uk if word not in stopwords.words('english')]\n"
   ]
  },
  {
   "cell_type": "code",
   "execution_count": 126,
   "metadata": {},
   "outputs": [
    {
     "name": "stdout",
     "output_type": "stream",
     "text": [
      "no matches\n",
      "None\n"
     ]
    }
   ],
   "source": []
  },
  {
   "cell_type": "code",
   "execution_count": 261,
   "metadata": {},
   "outputs": [
    {
     "data": {
      "text/plain": [
       "Counter({'i': 1,\n",
       "         'me': 1,\n",
       "         'my': 1,\n",
       "         'myself': 1,\n",
       "         'we': 1,\n",
       "         'our': 1,\n",
       "         'ours': 1,\n",
       "         'ourselves': 1,\n",
       "         'you': 1,\n",
       "         \"you're\": 1,\n",
       "         \"you've\": 1,\n",
       "         \"you'll\": 1,\n",
       "         \"you'd\": 1,\n",
       "         'your': 1,\n",
       "         'yours': 1,\n",
       "         'yourself': 1,\n",
       "         'yourselves': 1,\n",
       "         'he': 1,\n",
       "         'him': 1,\n",
       "         'his': 1,\n",
       "         'himself': 1,\n",
       "         'she': 1,\n",
       "         \"she's\": 1,\n",
       "         'her': 1,\n",
       "         'hers': 1,\n",
       "         'herself': 1,\n",
       "         'it': 1,\n",
       "         \"it's\": 1,\n",
       "         'its': 1,\n",
       "         'itself': 1,\n",
       "         'they': 1,\n",
       "         'them': 1,\n",
       "         'their': 1,\n",
       "         'theirs': 1,\n",
       "         'themselves': 1,\n",
       "         'what': 1,\n",
       "         'which': 1,\n",
       "         'who': 1,\n",
       "         'whom': 1,\n",
       "         'this': 1,\n",
       "         'that': 1,\n",
       "         \"that'll\": 1,\n",
       "         'these': 1,\n",
       "         'those': 1,\n",
       "         'am': 1,\n",
       "         'is': 1,\n",
       "         'are': 1,\n",
       "         'was': 1,\n",
       "         'were': 1,\n",
       "         'be': 1,\n",
       "         'been': 1,\n",
       "         'being': 1,\n",
       "         'have': 1,\n",
       "         'has': 1,\n",
       "         'had': 1,\n",
       "         'having': 1,\n",
       "         'do': 1,\n",
       "         'does': 1,\n",
       "         'did': 1,\n",
       "         'doing': 1,\n",
       "         'a': 1,\n",
       "         'an': 1,\n",
       "         'the': 1,\n",
       "         'and': 1,\n",
       "         'but': 1,\n",
       "         'if': 1,\n",
       "         'or': 1,\n",
       "         'because': 1,\n",
       "         'as': 1,\n",
       "         'until': 1,\n",
       "         'while': 1,\n",
       "         'of': 1,\n",
       "         'at': 1,\n",
       "         'by': 1,\n",
       "         'for': 1,\n",
       "         'with': 1,\n",
       "         'about': 1,\n",
       "         'against': 1,\n",
       "         'between': 1,\n",
       "         'into': 1,\n",
       "         'through': 1,\n",
       "         'during': 1,\n",
       "         'before': 1,\n",
       "         'after': 1,\n",
       "         'above': 1,\n",
       "         'below': 1,\n",
       "         'to': 1,\n",
       "         'from': 1,\n",
       "         'up': 1,\n",
       "         'down': 1,\n",
       "         'in': 1,\n",
       "         'out': 1,\n",
       "         'on': 1,\n",
       "         'off': 1,\n",
       "         'over': 1,\n",
       "         'under': 1,\n",
       "         'again': 1,\n",
       "         'further': 1,\n",
       "         'then': 1,\n",
       "         'once': 1,\n",
       "         'here': 1,\n",
       "         'there': 1,\n",
       "         'when': 1,\n",
       "         'where': 1,\n",
       "         'why': 1,\n",
       "         'how': 1,\n",
       "         'all': 1,\n",
       "         'any': 1,\n",
       "         'both': 1,\n",
       "         'each': 1,\n",
       "         'few': 1,\n",
       "         'more': 1,\n",
       "         'most': 1,\n",
       "         'other': 1,\n",
       "         'some': 1,\n",
       "         'such': 1,\n",
       "         'no': 1,\n",
       "         'nor': 1,\n",
       "         'not': 1,\n",
       "         'only': 1,\n",
       "         'own': 1,\n",
       "         'same': 1,\n",
       "         'so': 1,\n",
       "         'than': 1,\n",
       "         'too': 1,\n",
       "         'very': 1,\n",
       "         's': 1,\n",
       "         't': 1,\n",
       "         'can': 1,\n",
       "         'will': 1,\n",
       "         'just': 1,\n",
       "         'don': 1,\n",
       "         \"don't\": 1,\n",
       "         'should': 1,\n",
       "         \"should've\": 1,\n",
       "         'now': 1,\n",
       "         'd': 1,\n",
       "         'll': 1,\n",
       "         'm': 1,\n",
       "         'o': 1,\n",
       "         're': 1,\n",
       "         've': 1,\n",
       "         'y': 1,\n",
       "         'ain': 1,\n",
       "         'aren': 1,\n",
       "         \"aren't\": 1,\n",
       "         'couldn': 1,\n",
       "         \"couldn't\": 1,\n",
       "         'didn': 1,\n",
       "         \"didn't\": 1,\n",
       "         'doesn': 1,\n",
       "         \"doesn't\": 1,\n",
       "         'hadn': 1,\n",
       "         \"hadn't\": 1,\n",
       "         'hasn': 1,\n",
       "         \"hasn't\": 1,\n",
       "         'haven': 1,\n",
       "         \"haven't\": 1,\n",
       "         'isn': 1,\n",
       "         \"isn't\": 1,\n",
       "         'ma': 1,\n",
       "         'mightn': 1,\n",
       "         \"mightn't\": 1,\n",
       "         'mustn': 1,\n",
       "         \"mustn't\": 1,\n",
       "         'needn': 1,\n",
       "         \"needn't\": 1,\n",
       "         'shan': 1,\n",
       "         \"shan't\": 1,\n",
       "         'shouldn': 1,\n",
       "         \"shouldn't\": 1,\n",
       "         'wasn': 1,\n",
       "         \"wasn't\": 1,\n",
       "         'weren': 1,\n",
       "         \"weren't\": 1,\n",
       "         'won': 1,\n",
       "         \"won't\": 1,\n",
       "         'wouldn': 1,\n",
       "         \"wouldn't\": 1})"
      ]
     },
     "execution_count": 261,
     "metadata": {},
     "output_type": "execute_result"
    }
   ],
   "source": [
    "#The fast way\n",
    "# -- convert the stopwords list to a dictionary!\n",
    "\n",
    "from collections import Counter\n",
    "stop_words = stopwords.words('english')\n",
    "stopwords_dict = Counter(stop_words)\n",
    "\n"
   ]
  },
  {
   "cell_type": "markdown",
   "metadata": {},
   "source": [
    "It's straightforward enough to create that dictionary without using a for loop or using dict/zip like so:"
   ]
  },
  {
   "cell_type": "code",
   "execution_count": null,
   "metadata": {},
   "outputs": [],
   "source": [
    "stopwords_d = dict(zip(stopwords.words('english'),iter(int, 1)))"
   ]
  },
  {
   "cell_type": "code",
   "execution_count": 278,
   "metadata": {},
   "outputs": [
    {
     "name": "stdout",
     "output_type": "stream",
     "text": [
      "US [(\"'re\", 'gon', 'na'), (\"'m\", 'gon', 'na'), (\"'s\", 'gon', 'na'), ('gon', 'na', 'go'), ('gon', 'na', 'get'), ('gon', 'na', 'happen'), ('gon', 'na', 'kill'), ('gon', 'na', 'take'), ('gon', 'na', \"'s\"), ('gon', 'na', 'tell'), ('gon', 'na', 'need'), (\"n't\", 'gon', 'na'), ('gon', 'na', 'make'), ('gon', 'na', 'talk'), ('gon', 'na', \"n't\"), ('gon', 'na', 'die'), ('gon', 'na', 'know'), ('gon', 'na', 'start'), ('gon', 'na', 'find'), ('never', 'gon', 'na')]\n"
     ]
    }
   ],
   "source": [
    "us_colloc =  TrigramCollocationFinder.from_words(us_no_stopwords)\n",
    "auk_colloc=  TrigramCollocationFinder.from_words(us_no_stopwords)"
   ]
  },
  {
   "cell_type": "code",
   "execution_count": 264,
   "metadata": {},
   "outputs": [
    {
     "name": "stdout",
     "output_type": "stream",
     "text": [
      "US [(\"'re\", 'gon', 'na'), (\"'m\", 'gon', 'na'), (\"'s\", 'gon', 'na'), ('gon', 'na', 'go'), ('gon', 'na', 'get'), ('gon', 'na', 'happen'), ('gon', 'na', 'kill'), ('gon', 'na', 'take'), ('gon', 'na', \"'s\"), ('gon', 'na', 'tell'), ('gon', 'na', 'need'), (\"n't\", 'gon', 'na'), ('gon', 'na', 'make'), ('gon', 'na', 'talk'), ('gon', 'na', \"n't\"), ('gon', 'na', 'die'), ('gon', 'na', 'know'), ('gon', 'na', 'start'), ('gon', 'na', 'find'), ('never', 'gon', 'na')]\n",
      "UK [('ca', \"n't\", 'know'), ('ca', \"n't\", 'want'), ('ca', \"n't\", 'think'), ('ca', \"n't\", 'believe'), ('ca', \"n't\", 'even'), (\"'m\", 'gon', 'na'), ('ca', \"n't\", \"'s\"), (\"'re\", 'gon', 'na'), ('ca', \"n't\", 'mind'), ('ca', \"n't\", 'tell'), ('ca', \"n't\", 'understand'), ('ca', \"n't\", 'get'), ('ca', \"n't\", 'let'), ('ca', \"n't\", 'need'), ('ca', \"n't\", 'say'), ('ca', \"n't\", 'make'), ('ca', \"n't\", \"n't\"), ('ca', \"n't\", 'go'), ('ca', \"n't\", 'see'), ('ca', \"n't\", 'mean')]\n"
     ]
    }
   ],
   "source": [
    "print(\"US\",us_colloc.nbest(trigram_measures.likelihood_ratio, 20))\n",
    "print(\"UK\",uk_colloc.nbest(trigram_measures.likelihood_ratio, 20))\n"
   ]
  },
  {
   "cell_type": "code",
   "execution_count": 257,
   "metadata": {},
   "outputs": [],
   "source": [
    "import timeit\n",
    "import random\n",
    "import pandas as pd\n",
    "\n",
    "dfs=[]\n",
    "\n",
    "for i in range(1,5000,100):\n",
    "    cur_list = list(range(i))\n",
    "    duration = timeit.repeat(lambda: i in cur_list, number=1000,repeat=5)\n",
    "    dfs.append(pd.DataFrame({'cond':'list_search','length':i,'duration_1000':duration, 'num_runs':(1000)}))\n",
    "\n",
    "for i in range(1,5000,100):\n",
    "    cur_dict = dict(zip(list(range(i)),iter(int, 1)))\n",
    "    duration = timeit.repeat(lambda: i in cur_dict, number=1000,repeat=5)\n",
    "    dfs.append(pd.DataFrame({'cond':'dict_search','length':i,'duration_1000':duration, 'num_runs':(1000)}))\n",
    "\n",
    "#sorting a list\n",
    "for i in range(1,5000,100):\n",
    "    cur_list = list(range(i))\n",
    "    random.shuffle(cur_list)\n",
    "    duration = timeit.repeat(lambda: cur_list.sort(), number=1000,repeat=5)\n",
    "    dfs.append(pd.DataFrame({'cond':'list_sort','length':i,'duration_1000':duration, 'num_runs':(1000)}))\n",
    "\n"
   ]
  },
  {
   "cell_type": "code",
   "execution_count": 258,
   "metadata": {},
   "outputs": [
    {
     "name": "stderr",
     "output_type": "stream",
     "text": [
      "/Users/glupyan/anaconda3/envs/psych750/lib/python3.8/site-packages/plotnine/stats/smoothers.py:321: PlotnineWarning: Confidence intervals are not yet implemented for lowess smoothings.\n",
      "/Users/glupyan/anaconda3/envs/psych750/lib/python3.8/site-packages/plotnine/stats/smoothers.py:321: PlotnineWarning: Confidence intervals are not yet implemented for lowess smoothings.\n",
      "/Users/glupyan/anaconda3/envs/psych750/lib/python3.8/site-packages/plotnine/stats/smoothers.py:321: PlotnineWarning: Confidence intervals are not yet implemented for lowess smoothings.\n"
     ]
    },
    {
     "data": {
      "image/png": "[encoded data removed]",
      "text/plain": [
       "<Figure size 640x480 with 1 Axes>"
      ]
     },
     "metadata": {},
     "output_type": "display_data"
    },
    {
     "data": {
      "text/plain": [
       "<ggplot: (8767637520288)>"
      ]
     },
     "execution_count": 258,
     "metadata": {},
     "output_type": "execute_result"
    }
   ],
   "source": [
    "import numpy as np\n",
    "import matplotlib.pyplot as plt\n",
    "from plotnine import *\n",
    "\n",
    "\n",
    "dat=pd.concat(dfs)\n",
    "#print(dat.head(20))\n",
    "from plotnine.data import mtcars\n",
    "\n",
    "(ggplot(dat, aes(x='length', y='duration_1000', group='cond', color='cond'))\n",
    " + geom_point()\n",
    " + stat_smooth())\n"
   ]
  },
  {
   "cell_type": "code",
   "execution_count": 259,
   "metadata": {},
   "outputs": [
    {
     "data": {
      "text/html": [
       "<img src=\"https://he-s3.s3.amazonaws.com/media/uploads/317c55e.png\"/>"
      ],
      "text/plain": [
       "<IPython.core.display.Image object>"
      ]
     },
     "execution_count": 259,
     "metadata": {},
     "output_type": "execute_result"
    }
   ],
   "source": [
    "from IPython.display import Image\n",
    "from IPython.core.display import HTML \n",
    "Image(url= \"https://he-s3.s3.amazonaws.com/media/uploads/317c55e.png\")\n"
   ]
  }
 ],
 "metadata": {
  "kernelspec": {
   "display_name": "Python 3.8.13 ('psych750')",
   "language": "python",
   "name": "python3"
  },
  "language_info": {
   "codemirror_mode": {
    "name": "ipython",
    "version": 3
   },
   "file_extension": ".py",
   "mimetype": "text/x-python",
   "name": "python",
   "nbconvert_exporter": "python",
   "pygments_lexer": "ipython3",
   "version": "3.8.13"
  },
  "orig_nbformat": 4,
  "vscode": {
   "interpreter": {
    "hash": "57beecaf6908bae4f97de5e2dc8e8d0311fae5bc989593c172c307d13e31f6e4"
   }
  }
 },
 "nbformat": 4,
 "nbformat_minor": 2
}
